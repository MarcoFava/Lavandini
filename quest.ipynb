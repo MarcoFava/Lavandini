{
 "cells": [
  {
   "cell_type": "markdown",
   "metadata": {},
   "source": [
    "* Consumi elettrici\n",
    "* Dati sulle linee elettriche\n",
    "* Dati capannine meteo \n",
    "* Dati precipitazioni\n",
    "* Dati 'social pulse' di twitter.\n",
    "* Dati [qualità aria APPA](http://www.appa.provincia.tn.it/aria/qualita_aria_sezione/)\n",
    "----\n",
    "\n",
    "I dati sono disponibili su [Harvard Dataverse](https://dataverse.harvard.edu/dataverse/bigdatachallenge?q=&types=dataverses%3Adatasets&sort=dateSort&order=desc&page=2) e sono rilasciati sotto [licenza ODBL (Open DataBase License)](https://en.wikipedia.org/wiki/Open_Database_License).\n",
    "\n",
    "----\n",
    "Nota: non useremo i dati TelCom perché occupano più di 300 Gb.\n",
    "\n",
    "Se volete giocarci sono sullo stesso sito, ma non sono richiesti per il progetto.\n",
    "\n",
    "------\n",
    "<- Immagine adattata da [Barlacchi et al](https://www.nature.com/articles/sdata201555)\n"
   ]
  },
  {
   "cell_type": "markdown",
   "metadata": {},
   "source": [
    "* Il voto sarà al 50% sulla teoria, 50% sul progetto.\n",
    "* Mi interessa **come impostate il problema**. Non la bontà del modello.\n",
    "* Per problemi tecnici con librerie e dubbi sui dati, potete usare il forum su moodle. \n",
    "* **Non** potete usare moodle per altre cose, tipo dubbi sulla matematica.\n",
    "* Un progetto a scelta tra i 3 seguenti\n"
   ]
  },
  {
   "cell_type": "markdown",
   "metadata": {},
   "source": [
    "# Problema B  -- Consumi elettrici\n",
    "Usare i dati geografici, meteo, twitter, ed elettrici. \n",
    "* **EDA** Individuare le zone con maggiori consumi e maggior variazioni e identificarle. Correlano con zone industriali/residenziali/etc?\n",
    "\n",
    "Usando i dati di cui sopra, limitatamente ai giorni precedenti a quello da prevedere, e  alle fasce orarie 08:00 - 19:00 e 19:00 - 24:00. Argomentare se è possibile usare fasce più fini.\n",
    "* **Classificazione** Cercare di prevedere le zone del territorio urbano di Trento con maggiori consumi nei giorni infrasettimanali.\n",
    "* **Regressione** Cercare di prevedere i consumi di energia g per la provincia di Trento e per una zona a scelta tra comune di Trento e comune di Rovereto. "
   ]
  },
  {
   "cell_type": "markdown",
   "metadata": {},
   "source": [
    "# Ultime note sull'esame\n",
    "\n",
    "* Iniziate leggendo l'[articolo di Barlacchi et al.](https://www.nature.com/articles/sdata201555)\n",
    "* Il dataset administrative_regions contiene i dati sui comuni.\n",
    "* Usare il template del progetto visto nei giorni scorsi può aiutare a districarsi tra i dati.\n",
    "* Se provate a usare i dati delle TelCom, il template diventa essenziale. Le chiamate sono 60 Files da ~5 Gb ognuno. Non potete analizzarle su un laptopsenza scrivere degli script automatici.\n",
    "* Siete liberi di provare ad aggiungere dati se volete, basta che lo motiviate.\n",
    "\n"
   ]
  }
 ],
 "metadata": {
  "language_info": {
   "name": "python"
  }
 },
 "nbformat": 4,
 "nbformat_minor": 2
}
