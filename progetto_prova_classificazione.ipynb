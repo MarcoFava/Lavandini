{
 "cells": [
  {
   "cell_type": "code",
   "execution_count": 2,
   "metadata": {},
   "outputs": [],
   "source": [
    "#Inizio parte sui classificatori\n",
    "\n",
    "import pandas as pd\n",
    "import geopandas as gpd\n",
    "import matplotlib.pyplot as plt\n",
    "import numpy as np\n",
    "# import seaborn as sns\n",
    "import plotly.graph_objects as go\n",
    "from datetime import datetime, timedelta\n",
    "from sklearn.preprocessing import StandardScaler, OneHotEncoder\n",
    "from sklearn.compose import ColumnTransformer\n",
    "from sklearn.compose import make_column_transformer\n",
    "from sklearn.pipeline import Pipeline\n",
    "from sklearn.pipeline import make_pipeline\n",
    "from sklearn.ensemble import RandomForestClassifier\n",
    "from sklearn.model_selection import train_test_split\n",
    "from sklearn.metrics import classification_report\n",
    "from sklearn.linear_model import LogisticRegression\n",
    "from sklearn.model_selection import cross_val_score, KFold\n",
    "from sklearn.metrics import roc_curve, roc_auc_score, precision_recall_curve\n",
    "from sklearn.metrics import confusion_matrix, ConfusionMatrixDisplay\n",
    "from sklearn.metrics import f1_score\n",
    "from sklearn.multiclass import OneVsRestClassifier\n",
    "from sklearn.metrics import roc_curve, auc, RocCurveDisplay\n",
    "from sklearn.linear_model import LogisticRegression\n",
    "from sklearn.impute import SimpleImputer"
   ]
  },
  {
   "cell_type": "markdown",
   "metadata": {},
   "source": [
    "Importiamo il DataFrame con i dati necessari sui consumi, poi specializziamo nell'area urbana di Trento."
   ]
  },
  {
   "cell_type": "code",
   "execution_count": null,
   "metadata": {},
   "outputs": [],
   "source": [
    "df_l = pd.read_csv('dataframe/dati_orari_medie_provincia_Trento.csv')\n",
    "#cambiare nome file"
   ]
  },
  {
   "cell_type": "code",
   "execution_count": null,
   "metadata": {},
   "outputs": [],
   "source": [
    "df_l = df_l[df_l['COMUNE']=='TRENTO']"
   ]
  },
  {
   "cell_type": "markdown",
   "metadata": {},
   "source": [
    "Per il preprocessing dei dati, uso come riferimento del filtro la classe di consumo 'alta'"
   ]
  },
  {
   "cell_type": "code",
   "execution_count": null,
   "metadata": {},
   "outputs": [],
   "source": [
    "filter = [df_l['fascia_oraria']=='8-12',df_l['fascia_oraria']=='12-14',df_l['fascia_oraria']=='14-19',(df_l['fascia_oraria']!='19-00')&(df_l['fascia_oraria']!='00-08')]\n",
    "\n",
    "df = df_l[filter[2]] #ok ma devo scegliere una fascia oraria da analizzare\n",
    "target_class = 'alto'"
   ]
  },
  {
   "cell_type": "markdown",
   "metadata": {},
   "source": [
    "Qui ci troviamo di fronte a due possibili scelte di insiemi di training e test. Tenendo conto della sequenza temporale, e quindi volendo analizzare i consumi futuri, possiamo usare come training il mese di novembre e la prima metà di dicembre, per fare il test sulla seconda metà di dicembre. Siccome tale scelta può produrre discrepanze viziate dalle vacanze natalizie, la seconda scelta è una divisione casuale (80%-20%) dei giorni, in modo da avere dei risultati più mediati, in positivo e/o in negativo."
   ]
  },
  {
   "cell_type": "markdown",
   "metadata": {},
   "source": [
    "Qui riporto la prima scelta, quella basata su criteri temporali."
   ]
  },
  {
   "cell_type": "code",
   "execution_count": null,
   "metadata": {},
   "outputs": [],
   "source": [
    "# Divido il dataset in training e test (prima e dopo il 15 dicembre)\n",
    "X_train = df[df['data'] < '2013-12-15'].drop(columns = {'consumo','data','corrente_pesata','COMUNE'})\n",
    "# Creo un array con gli identificativi delle celle del training\n",
    "cell_train = X_train['cellId'].unique()\n",
    "X_test = df.query(\"data >= '2013-12-15' and cellId in @cell_train\").drop(columns = {'consumo', 'data', 'corrente_pesata', 'COMUNE'})\n",
    "y_train = df[df['data'] < '2013-12-15']['consumo']\n",
    "y_train = (y_train == target_class).astype(int)\n",
    "y_test = df.query(\"data >= '2013-12-15' and cellId in @cell_train\")['consumo']\n",
    "y_test = (y_test == target_class).astype(int)"
   ]
  },
  {
   "cell_type": "markdown",
   "metadata": {},
   "source": [
    "Adesso riporto la seconda opzione, quella di divisione casuale."
   ]
  },
  {
   "cell_type": "code",
   "execution_count": null,
   "metadata": {},
   "outputs": [],
   "source": [
    "X = df.drop(columns= {'consumo','data','corrente_pesata','COMUNE'})\n",
    "y = df['consumo']\n",
    "y_bin = (y == target_class).astype(int)\n",
    "X_train, X_test, y_train, y_test = train_test_split(X, y_bin, test_size=0.2, random_state=24)"
   ]
  },
  {
   "cell_type": "markdown",
   "metadata": {},
   "source": [
    "Predispongo la pipeline per un lavoro preliminare sui dati. Per quanto riguarda i dati mancanti, abbiamo agito in due modi al variare del tipo di feature (numerica o di categoria). Per la prima, sostituisco il dato problematico con una media e poi normalizzo tutte le features. Per la seconda, invece, sostituisco con valore 'missing', in quanto pensiamo che questa nuova categoria non influenzi particolarmente l'analisi complessiva."
   ]
  },
  {
   "cell_type": "code",
   "execution_count": null,
   "metadata": {},
   "outputs": [],
   "source": [
    "numeric_features = ['temp','prec','tweet','pioggia','mod_wind','ang_wind']\n",
    "categorical_features = ['cellId','fascia_oraria','day_week']\n",
    "\n",
    "#Per le features numeriche, uso la media in caso di dati mancanti, poi normalizzo tutto\n",
    "numeric_transformer = make_pipeline(SimpleImputer(strategy='mean'), \n",
    "                                    StandardScaler())\n",
    "\n",
    "#Per le features di categoria, sostituisco le celle mancanti con 'missing' values, mentre ignoro successivamente i valori non visti durante il training\n",
    "categorical_transformer = make_pipeline(SimpleImputer(strategy='constant', fill_value='missing'), \n",
    "                                        OneHotEncoder(handle_unknown='ignore', sparse_output = False))\n",
    "       \n",
    "#Unisco le due pipelines precedenti in un'unica struttura\n",
    "preprocessor = make_column_transformer(\n",
    "        (numeric_transformer, numeric_features),\n",
    "        (categorical_transformer, categorical_features)\n",
    ")"
   ]
  },
  {
   "cell_type": "code",
   "execution_count": null,
   "metadata": {},
   "outputs": [],
   "source": [
    "# Creazione della pipeline finale\n",
    "pipeline = make_pipeline(preprocessor)\n",
    "\n",
    "model_rf = make_pipeline(preprocessor, RandomForestClassifier(random_state=24))\n",
    "\n",
    "model_lr = make_pipeline(preprocessor, LogisticRegression(random_state=24))"
   ]
  },
  {
   "cell_type": "markdown",
   "metadata": {},
   "source": [
    "Adesso procediamo con il modello di random forest, fare delle predizioni e valutarne i risultati.\n",
    "Costruiamo quindi i dati per la matrice di confusione, la curva ROC e il grafico per la precision-recall."
   ]
  },
  {
   "cell_type": "code",
   "execution_count": null,
   "metadata": {},
   "outputs": [],
   "source": [
    "#RANDOM FOREST\n",
    "#Addestro sui dati di training\n",
    "model_rf.fit(X_train, y_train)\n",
    "\n",
    "#Predizione sui dati di test\n",
    "y_pred = model_rf.predict(X_test)\n",
    "#Probabilità per la classe positiva\n",
    "y_prob = model_rf.predict_proba(X_test)[:, 1]"
   ]
  },
  {
   "cell_type": "code",
   "execution_count": null,
   "metadata": {},
   "outputs": [],
   "source": [
    "#Valutazioni del modello\n",
    "report_rf = classification_report(y_test, y_pred)\n",
    "print(report_rf)\n",
    "\n",
    "#Costruisco e mostro confusion matrix\n",
    "confusion_matrix_rf = confusion_matrix(y_test.values,model_rf.predict(X_test)) #uso .values per avere solo l'array associato\n",
    "confusion_matrix_disp_rf = ConfusionMatrixDisplay(confusion_matrix_rf)\n",
    "\n",
    "#Calcolo ROC curve e AUC area associata\n",
    "fpr_rf, tpr_rf, thresholds_rf = roc_curve(y_test, y_prob)\n",
    "auc_rf = auc(fpr_rf, tpr_rf)\n",
    "\n",
    "#Calcolo precision recall curve e soglie usate\n",
    "pr_rf, rec_rf, thresh_rf = precision_recall_curve(y_test, y_prob)\n"
   ]
  },
  {
   "cell_type": "markdown",
   "metadata": {},
   "source": [
    "Questa volta operiamo con il logistic regressor, come sopra."
   ]
  },
  {
   "cell_type": "code",
   "execution_count": null,
   "metadata": {},
   "outputs": [],
   "source": [
    "#LOGISTIC REGR\n",
    "#Addestro sui dati di training\n",
    "model_lr.fit(X_train, y_train)\n",
    "\n",
    "#Predizione sui dati di test\n",
    "y_pred = model_lr.predict(X_test)\n",
    "#Probabilità per la classe positiva\n",
    "y_prob = model_lr.predict_proba(X_test)[:, 1]"
   ]
  },
  {
   "cell_type": "code",
   "execution_count": null,
   "metadata": {},
   "outputs": [],
   "source": [
    "#Valutazioni del modello\n",
    "report_lr = classification_report(y_test, y_pred)\n",
    "print(report_lr)\n",
    "\n",
    "#Costruisco e mostro confusion matrix\n",
    "confusion_matrix_lr = confusion_matrix(y_test.values,model_lr.predict(X_test)) #uso .values per avere solo l'array associato\n",
    "confusion_matrix_disp_lr = ConfusionMatrixDisplay(confusion_matrix_lr)\n",
    "\n",
    "#Calcolo ROC curve e AUC area associata\n",
    "fpr_lr, tpr_lr, thresholds_lr = roc_curve(y_test, y_prob)\n",
    "auc_lr = auc(fpr_lr, tpr_lr)\n",
    "\n",
    "#Calcolo precision recall curve e soglie usate\n",
    "pr_lr, rec_lr, thresh_lr = precision_recall_curve(y_test, y_prob)\n"
   ]
  },
  {
   "cell_type": "markdown",
   "metadata": {},
   "source": [
    "Plotto le matrici di confusione, le ROC curves e le precision-recall curves per Random Forest e Logistic Regressor, in una griglia 3x2 in modo da poter comprare facilmente le differenze fra i due modelli e le validità di entrambi."
   ]
  },
  {
   "cell_type": "code",
   "execution_count": null,
   "metadata": {},
   "outputs": [],
   "source": [
    "fig, axes = plt.subplots(3, 2, figsize=(14, 18))\n",
    "\n",
    "#Plot per matrici di confusione\n",
    "confusion_matrix_disp_rf.plot(ax=axes[0, 0], colorbar=False)\n",
    "axes[0, 0].set_title('Confusion Matrix Random Forest')\n",
    "confusion_matrix_disp_lr.plot(ax=axes[0, 1], colorbar=False)\n",
    "axes[0, 1].set_title('Confusion Matrix Logistic Regressor')\n",
    "\n",
    "#Plot per curve ROC\n",
    "#rf\n",
    "axes[1, 0].plot(fpr_rf, tpr_rf, color='blue', lw=2, label=f'ROC curve (area = {auc_rf:.2f})')\n",
    "axes[1, 0].plot([0, 1], [0, 1], color='gray', lw=2, linestyle='--')\n",
    "axes[1, 0].set_xlim([0.0, 1.0])\n",
    "axes[1, 0].set_ylim([0.0, 1.05])\n",
    "axes[1, 0].set_xlabel('False Positive Rate')\n",
    "axes[1, 0].set_ylabel('True Positive Rate')\n",
    "axes[1, 0].set_title('ROC Random Forest')\n",
    "axes[1, 0].legend(loc=\"lower right\")\n",
    "#lr\n",
    "axes[1, 1].plot(fpr_lr, tpr_lr, color='blue', lw=2, label=f'ROC curve (area = {auc_lr:.2f})')\n",
    "axes[1, 1].plot([0, 1], [0, 1], color='gray', lw=2, linestyle='--')\n",
    "axes[1, 1].set_xlim([0.0, 1.0])\n",
    "axes[1, 1].set_ylim([0.0, 1.05])\n",
    "axes[1, 1].set_xlabel('False Positive Rate')\n",
    "axes[1, 1].set_ylabel('True Positive Rate')\n",
    "axes[1, 1].set_title('ROC Logistic Regressor')\n",
    "axes[1, 1].legend(loc=\"lower right\")\n",
    "\n",
    "#Plot per precision-recall curve\n",
    "#rf\n",
    "axes[2, 0].plot(rec_rf, pr_rf, color='green', lw=2, label='Precision-Recall curve')\n",
    "axes[2, 0].set_xlim([0.0, 1.0])\n",
    "axes[2, 0].set_ylim([0.0, 1.05])\n",
    "axes[2, 0].set_xlabel('Recall')\n",
    "axes[2, 0].set_ylabel('Precision')\n",
    "axes[2, 0].set_title('Precision-Recall Random Forest')\n",
    "axes[2, 0].legend(loc=\"lower left\")\n",
    "#lr\n",
    "axes[2, 1].plot(rec1, pr1, color='green', lw=2, label='Precision-Recall curve')\n",
    "axes[2, 1].set_xlim([0.0, 1.0])\n",
    "axes[2, 1].set_ylim([0.0, 1.05])\n",
    "axes[2, 1].set_xlabel('Recall')\n",
    "axes[2, 1].set_ylabel('Precision')\n",
    "axes[2, 1].set_title('Precision-Recall Logistic Regressor')\n",
    "axes[2, 1].legend(loc=\"lower left\")\n",
    "\n",
    "#Mostro infine il plot con un layout pulito\n",
    "plt.tight_layout()\n",
    "plt.show()\n"
   ]
  }
 ],
 "metadata": {
  "kernelspec": {
   "display_name": "Python 3",
   "language": "python",
   "name": "python3"
  },
  "language_info": {
   "codemirror_mode": {
    "name": "ipython",
    "version": 3
   },
   "file_extension": ".py",
   "mimetype": "text/x-python",
   "name": "python",
   "nbconvert_exporter": "python",
   "pygments_lexer": "ipython3",
   "version": "3.11.5"
  }
 },
 "nbformat": 4,
 "nbformat_minor": 2
}
